{
 "cells": [
  {
   "cell_type": "markdown",
   "metadata": {},
   "source": [
    "4.3.1 Data Preprocessing Part 2"
   ]
  },
  {
   "cell_type": "markdown",
   "metadata": {},
   "source": [
    "4.3 Exit Assessment"
   ]
  },
  {
   "cell_type": "code",
   "execution_count": 1,
   "metadata": {},
   "outputs": [
    {
     "name": "stdout",
     "output_type": "stream",
     "text": [
      "Requirement already satisfied: pandas in c:\\programdata\\anaconda3\\lib\\site-packages (0.25.1)\n",
      "Requirement already satisfied: python-dateutil>=2.6.1 in c:\\programdata\\anaconda3\\lib\\site-packages (from pandas) (2.8.0)\n",
      "Requirement already satisfied: numpy>=1.13.3 in c:\\programdata\\anaconda3\\lib\\site-packages (from pandas) (1.16.5)\n",
      "Requirement already satisfied: pytz>=2017.2 in c:\\programdata\\anaconda3\\lib\\site-packages (from pandas) (2019.3)\n",
      "Requirement already satisfied: six>=1.5 in c:\\users\\mneme\\appdata\\roaming\\python\\python37\\site-packages (from python-dateutil>=2.6.1->pandas) (1.12.0)\n"
     ]
    }
   ],
   "source": [
    "#installing pandas package\n",
    "!pip install pandas"
   ]
  },
  {
   "cell_type": "markdown",
   "metadata": {},
   "source": [
    "Part 1: Using data found in sales.csv, perform the following task\n",
    "1 Standardize the Price column\n",
    "2 Identify and remove outliers in the dataset"
   ]
  },
  {
   "cell_type": "code",
   "execution_count": 3,
   "metadata": {},
   "outputs": [
    {
     "data": {
      "text/plain": [
       "Transaction_date     3\n",
       "Product              3\n",
       "Price                1\n",
       "Payment_Type         3\n",
       "Name                 0\n",
       "City                 4\n",
       "State               13\n",
       "Country              0\n",
       "Account_Created      3\n",
       "Last_Login           7\n",
       "Latitude             3\n",
       "Longitude            1\n",
       "dtype: int64"
      ]
     },
     "execution_count": 3,
     "metadata": {},
     "output_type": "execute_result"
    }
   ],
   "source": [
    "#importing pandas library\n",
    "import pandas as pd\n",
    "\n",
    "#read sales.csv\n",
    "data = pd.read_csv(\"C:/Users/mneme/Desktop/sales.csv\")\n",
    "\n",
    "#Checking null values\n",
    "data.isnull().sum()"
   ]
  },
  {
   "cell_type": "markdown",
   "metadata": {},
   "source": [
    "Since, price has only 1 null values, deleting it wont affect price standardization"
   ]
  },
  {
   "cell_type": "code",
   "execution_count": 18,
   "metadata": {},
   "outputs": [],
   "source": [
    "#Deleting null values in Price column\n",
    "data.dropna(subset=['Price'], inplace = True)"
   ]
  },
  {
   "cell_type": "markdown",
   "metadata": {},
   "source": [
    "Starndardization Formula\n",
    "Xnew = (Xold - Xmean)/Standard Deviation"
   ]
  },
  {
   "cell_type": "code",
   "execution_count": 20,
   "metadata": {},
   "outputs": [],
   "source": [
    "data.insert(12, \"Standardized_Price\", 0)"
   ]
  },
  {
   "cell_type": "code",
   "execution_count": 23,
   "metadata": {},
   "outputs": [],
   "source": [
    "#importing numpy library\n",
    "import numpy as np\n",
    "\n",
    "#Removing comma in Price column\n",
    "data['Price'] = data['Price'].replace(',','', regex = True)\n",
    "\n",
    "#Converting string to float\n",
    "data['Price'] = data['Price'].astype(float)\n",
    "\n",
    "#Standardization of the Price\n",
    "data.Standardized_Price = (data.Price - np.mean(data.Price))/(np.std(data.Price))"
   ]
  },
  {
   "cell_type": "code",
   "execution_count": 24,
   "metadata": {},
   "outputs": [
    {
     "name": "stdout",
     "output_type": "stream",
     "text": [
      "    Transaction_date   Product   Price Payment_Type               Name  \\\n",
      "0      1/2/2009 6:17  Product1  1200.0   Mastercard           carolina   \n",
      "1      1/2/2009 4:53  Product1  1200.0         Visa             Betina   \n",
      "2     1/2/2009 13:08  Product1  1200.0   Mastercard  Federica e Andrea   \n",
      "3     1/3/2009 14:44  Product1  1200.0         Visa              Gouya   \n",
      "4     1/4/2009 12:56  Product2  3600.0         Visa             Gerd W   \n",
      "..               ...       ...     ...          ...                ...   \n",
      "995  1/22/2009 14:25  Product1  1200.0         Visa         Hans-Joerg   \n",
      "996   1/28/2009 5:36  Product2  3600.0         Visa         Christiane   \n",
      "997    1/1/2009 4:24  Product3  7500.0         Amex             Pamela   \n",
      "998   1/8/2009 11:55  Product1  1200.0       Diners              julie   \n",
      "999  1/12/2009 21:30  Product1  1200.0         Visa              Julia   \n",
      "\n",
      "               City             State         Country   Account_Created  \\\n",
      "0          Basildon           England  United Kingdom     1/2/2009 6:00   \n",
      "1         Parkville                MO   United States     1/2/2009 4:42   \n",
      "2           Astoria                OR   United States    1/1/2009 16:21   \n",
      "3            Echuca          Victoria       Australia   9/25/2005 21:13   \n",
      "4    Cahaba Heights                AL   United States  11/15/2008 15:47   \n",
      "..              ...               ...             ...               ...   \n",
      "995         Belfast  Northern Ireland  United Kingdom  11/10/2008 12:15   \n",
      "996     Black River       Black River       Mauritius     1/9/2009 8:10   \n",
      "997     Skaneateles                NY   United States  12/28/2008 17:28   \n",
      "998       Haverhill           England  United Kingdom  11/29/2006 13:31   \n",
      "999         Madison                WI   United States  11/17/2008 22:24   \n",
      "\n",
      "         Last_Login   Latitude   Longitude  Standardized_Price  \n",
      "0     1/2/2009 6:08  51.500000   -1.116667           -0.372712  \n",
      "1     1/2/2009 7:49  39.195000  -94.681940           -0.372712  \n",
      "2    1/3/2009 12:32  46.188060 -123.830000           -0.372712  \n",
      "3    1/3/2009 14:22 -36.133333  144.750000           -0.372712  \n",
      "4    1/4/2009 12:45  33.520560  -86.802500            1.610806  \n",
      "..              ...        ...         ...                 ...  \n",
      "995   3/1/2009 3:37  54.583333   -5.933333           -0.372712  \n",
      "996   3/1/2009 4:40 -20.360278   57.366111            1.610806  \n",
      "997   3/1/2009 7:21  42.946940  -76.429440            4.834024  \n",
      "998   3/1/2009 7:28  52.083333    0.433333           -0.372712  \n",
      "999  3/1/2009 10:14  43.073060  -89.401110           -0.372712  \n",
      "\n",
      "[999 rows x 13 columns]\n"
     ]
    }
   ],
   "source": [
    "print(data)"
   ]
  },
  {
   "cell_type": "code",
   "execution_count": 25,
   "metadata": {},
   "outputs": [],
   "source": [
    "#Getting the mean and standard deviation\n",
    "mean = np.mean(data.Price)\n",
    "std = np.mean(data.Price)\n",
    "lowerlimit = max(0,mean - 3*std)\n",
    "upperlimit = mean + 3*std\n",
    "\n",
    "#Outlier Identification and Removal\n",
    "data_cleaned1 = data[data.Price >= lowerlimit]\n",
    "data_cleaned2 = data[data.Price <= upperlimit]"
   ]
  },
  {
   "cell_type": "code",
   "execution_count": 26,
   "metadata": {},
   "outputs": [
    {
     "data": {
      "text/html": [
       "<div>\n",
       "<style scoped>\n",
       "    .dataframe tbody tr th:only-of-type {\n",
       "        vertical-align: middle;\n",
       "    }\n",
       "\n",
       "    .dataframe tbody tr th {\n",
       "        vertical-align: top;\n",
       "    }\n",
       "\n",
       "    .dataframe thead th {\n",
       "        text-align: right;\n",
       "    }\n",
       "</style>\n",
       "<table border=\"1\" class=\"dataframe\">\n",
       "  <thead>\n",
       "    <tr style=\"text-align: right;\">\n",
       "      <th></th>\n",
       "      <th>Transaction_date</th>\n",
       "      <th>Product</th>\n",
       "      <th>Price</th>\n",
       "      <th>Payment_Type</th>\n",
       "      <th>Name</th>\n",
       "      <th>City</th>\n",
       "      <th>State</th>\n",
       "      <th>Country</th>\n",
       "      <th>Account_Created</th>\n",
       "      <th>Last_Login</th>\n",
       "      <th>Latitude</th>\n",
       "      <th>Longitude</th>\n",
       "      <th>Standardized_Price</th>\n",
       "    </tr>\n",
       "  </thead>\n",
       "  <tbody>\n",
       "    <tr>\n",
       "      <td>count</td>\n",
       "      <td>978</td>\n",
       "      <td>978</td>\n",
       "      <td>981.000000</td>\n",
       "      <td>979</td>\n",
       "      <td>981</td>\n",
       "      <td>977</td>\n",
       "      <td>968</td>\n",
       "      <td>981</td>\n",
       "      <td>978</td>\n",
       "      <td>974</td>\n",
       "      <td>979.000000</td>\n",
       "      <td>980.000000</td>\n",
       "      <td>981.000000</td>\n",
       "    </tr>\n",
       "    <tr>\n",
       "      <td>unique</td>\n",
       "      <td>960</td>\n",
       "      <td>2</td>\n",
       "      <td>NaN</td>\n",
       "      <td>4</td>\n",
       "      <td>727</td>\n",
       "      <td>736</td>\n",
       "      <td>202</td>\n",
       "      <td>56</td>\n",
       "      <td>957</td>\n",
       "      <td>954</td>\n",
       "      <td>NaN</td>\n",
       "      <td>NaN</td>\n",
       "      <td>NaN</td>\n",
       "    </tr>\n",
       "    <tr>\n",
       "      <td>top</td>\n",
       "      <td>1/5/2009 5:33</td>\n",
       "      <td>Product1</td>\n",
       "      <td>NaN</td>\n",
       "      <td>Visa</td>\n",
       "      <td>Sarah</td>\n",
       "      <td>London</td>\n",
       "      <td>England</td>\n",
       "      <td>United States</td>\n",
       "      <td>1/18/2009 0:00</td>\n",
       "      <td>1/4/2009 20:01</td>\n",
       "      <td>NaN</td>\n",
       "      <td>NaN</td>\n",
       "      <td>NaN</td>\n",
       "    </tr>\n",
       "    <tr>\n",
       "      <td>freq</td>\n",
       "      <td>2</td>\n",
       "      <td>842</td>\n",
       "      <td>NaN</td>\n",
       "      <td>511</td>\n",
       "      <td>11</td>\n",
       "      <td>19</td>\n",
       "      <td>84</td>\n",
       "      <td>455</td>\n",
       "      <td>3</td>\n",
       "      <td>2</td>\n",
       "      <td>NaN</td>\n",
       "      <td>NaN</td>\n",
       "      <td>NaN</td>\n",
       "    </tr>\n",
       "    <tr>\n",
       "      <td>mean</td>\n",
       "      <td>NaN</td>\n",
       "      <td>NaN</td>\n",
       "      <td>1534.169215</td>\n",
       "      <td>NaN</td>\n",
       "      <td>NaN</td>\n",
       "      <td>NaN</td>\n",
       "      <td>NaN</td>\n",
       "      <td>NaN</td>\n",
       "      <td>NaN</td>\n",
       "      <td>NaN</td>\n",
       "      <td>39.116890</td>\n",
       "      <td>-41.097999</td>\n",
       "      <td>-0.096533</td>\n",
       "    </tr>\n",
       "    <tr>\n",
       "      <td>std</td>\n",
       "      <td>NaN</td>\n",
       "      <td>NaN</td>\n",
       "      <td>834.950840</td>\n",
       "      <td>NaN</td>\n",
       "      <td>NaN</td>\n",
       "      <td>NaN</td>\n",
       "      <td>NaN</td>\n",
       "      <td>NaN</td>\n",
       "      <td>NaN</td>\n",
       "      <td>NaN</td>\n",
       "      <td>19.433659</td>\n",
       "      <td>67.592075</td>\n",
       "      <td>0.690059</td>\n",
       "    </tr>\n",
       "    <tr>\n",
       "      <td>min</td>\n",
       "      <td>NaN</td>\n",
       "      <td>NaN</td>\n",
       "      <td>20.000000</td>\n",
       "      <td>NaN</td>\n",
       "      <td>NaN</td>\n",
       "      <td>NaN</td>\n",
       "      <td>NaN</td>\n",
       "      <td>NaN</td>\n",
       "      <td>NaN</td>\n",
       "      <td>NaN</td>\n",
       "      <td>-41.465000</td>\n",
       "      <td>-159.485280</td>\n",
       "      <td>-1.347942</td>\n",
       "    </tr>\n",
       "    <tr>\n",
       "      <td>25%</td>\n",
       "      <td>NaN</td>\n",
       "      <td>NaN</td>\n",
       "      <td>1200.000000</td>\n",
       "      <td>NaN</td>\n",
       "      <td>NaN</td>\n",
       "      <td>NaN</td>\n",
       "      <td>NaN</td>\n",
       "      <td>NaN</td>\n",
       "      <td>NaN</td>\n",
       "      <td>NaN</td>\n",
       "      <td>36.013475</td>\n",
       "      <td>-87.861807</td>\n",
       "      <td>-0.372712</td>\n",
       "    </tr>\n",
       "    <tr>\n",
       "      <td>50%</td>\n",
       "      <td>NaN</td>\n",
       "      <td>NaN</td>\n",
       "      <td>1200.000000</td>\n",
       "      <td>NaN</td>\n",
       "      <td>NaN</td>\n",
       "      <td>NaN</td>\n",
       "      <td>NaN</td>\n",
       "      <td>NaN</td>\n",
       "      <td>NaN</td>\n",
       "      <td>NaN</td>\n",
       "      <td>42.395830</td>\n",
       "      <td>-73.722083</td>\n",
       "      <td>-0.372712</td>\n",
       "    </tr>\n",
       "    <tr>\n",
       "      <td>75%</td>\n",
       "      <td>NaN</td>\n",
       "      <td>NaN</td>\n",
       "      <td>1200.000000</td>\n",
       "      <td>NaN</td>\n",
       "      <td>NaN</td>\n",
       "      <td>NaN</td>\n",
       "      <td>NaN</td>\n",
       "      <td>NaN</td>\n",
       "      <td>NaN</td>\n",
       "      <td>NaN</td>\n",
       "      <td>51.083333</td>\n",
       "      <td>4.916667</td>\n",
       "      <td>-0.372712</td>\n",
       "    </tr>\n",
       "    <tr>\n",
       "      <td>max</td>\n",
       "      <td>NaN</td>\n",
       "      <td>NaN</td>\n",
       "      <td>3600.000000</td>\n",
       "      <td>NaN</td>\n",
       "      <td>NaN</td>\n",
       "      <td>NaN</td>\n",
       "      <td>NaN</td>\n",
       "      <td>NaN</td>\n",
       "      <td>NaN</td>\n",
       "      <td>NaN</td>\n",
       "      <td>64.837780</td>\n",
       "      <td>174.766667</td>\n",
       "      <td>1.610806</td>\n",
       "    </tr>\n",
       "  </tbody>\n",
       "</table>\n",
       "</div>"
      ],
      "text/plain": [
       "       Transaction_date   Product        Price Payment_Type   Name    City  \\\n",
       "count               978       978   981.000000          979    981     977   \n",
       "unique              960         2          NaN            4    727     736   \n",
       "top       1/5/2009 5:33  Product1          NaN         Visa  Sarah  London   \n",
       "freq                  2       842          NaN          511     11      19   \n",
       "mean                NaN       NaN  1534.169215          NaN    NaN     NaN   \n",
       "std                 NaN       NaN   834.950840          NaN    NaN     NaN   \n",
       "min                 NaN       NaN    20.000000          NaN    NaN     NaN   \n",
       "25%                 NaN       NaN  1200.000000          NaN    NaN     NaN   \n",
       "50%                 NaN       NaN  1200.000000          NaN    NaN     NaN   \n",
       "75%                 NaN       NaN  1200.000000          NaN    NaN     NaN   \n",
       "max                 NaN       NaN  3600.000000          NaN    NaN     NaN   \n",
       "\n",
       "          State        Country Account_Created      Last_Login    Latitude  \\\n",
       "count       968            981             978             974  979.000000   \n",
       "unique      202             56             957             954         NaN   \n",
       "top     England  United States  1/18/2009 0:00  1/4/2009 20:01         NaN   \n",
       "freq         84            455               3               2         NaN   \n",
       "mean        NaN            NaN             NaN             NaN   39.116890   \n",
       "std         NaN            NaN             NaN             NaN   19.433659   \n",
       "min         NaN            NaN             NaN             NaN  -41.465000   \n",
       "25%         NaN            NaN             NaN             NaN   36.013475   \n",
       "50%         NaN            NaN             NaN             NaN   42.395830   \n",
       "75%         NaN            NaN             NaN             NaN   51.083333   \n",
       "max         NaN            NaN             NaN             NaN   64.837780   \n",
       "\n",
       "         Longitude  Standardized_Price  \n",
       "count   980.000000          981.000000  \n",
       "unique         NaN                 NaN  \n",
       "top            NaN                 NaN  \n",
       "freq           NaN                 NaN  \n",
       "mean    -41.097999           -0.096533  \n",
       "std      67.592075            0.690059  \n",
       "min    -159.485280           -1.347942  \n",
       "25%     -87.861807           -0.372712  \n",
       "50%     -73.722083           -0.372712  \n",
       "75%       4.916667           -0.372712  \n",
       "max     174.766667            1.610806  "
      ]
     },
     "execution_count": 26,
     "metadata": {},
     "output_type": "execute_result"
    }
   ],
   "source": [
    "data_cleaned2.describe(include=\"all\")"
   ]
  },
  {
   "cell_type": "markdown",
   "metadata": {},
   "source": [
    "Inter-Quartile Range (IQR) = Q75 - Q25"
   ]
  },
  {
   "cell_type": "code",
   "execution_count": 27,
   "metadata": {},
   "outputs": [
    {
     "name": "stdout",
     "output_type": "stream",
     "text": [
      "0.0\n",
      "1200.0\n",
      "1200.0\n"
     ]
    }
   ],
   "source": [
    "IQR = np.percentile(data.Price, 75) - np.percentile(data.Price, 25)\n",
    "print(IQR)\n",
    "\n",
    "upperlimit2 = np.percentile(data.Price, 75) + 1.5*IQR\n",
    "lowerlimit2 = max(0, np.percentile(data.Price, 25) - 1.5*IQR)\n",
    "print(upperlimit2)\n",
    "print(lowerlimit2)"
   ]
  },
  {
   "cell_type": "code",
   "execution_count": 28,
   "metadata": {},
   "outputs": [],
   "source": [
    "data_cleaned3 = data[data.Price >= lowerlimit]\n",
    "data_cleaned4 = data[data.Price <= upperlimit]"
   ]
  },
  {
   "cell_type": "code",
   "execution_count": 29,
   "metadata": {},
   "outputs": [
    {
     "data": {
      "text/html": [
       "<div>\n",
       "<style scoped>\n",
       "    .dataframe tbody tr th:only-of-type {\n",
       "        vertical-align: middle;\n",
       "    }\n",
       "\n",
       "    .dataframe tbody tr th {\n",
       "        vertical-align: top;\n",
       "    }\n",
       "\n",
       "    .dataframe thead th {\n",
       "        text-align: right;\n",
       "    }\n",
       "</style>\n",
       "<table border=\"1\" class=\"dataframe\">\n",
       "  <thead>\n",
       "    <tr style=\"text-align: right;\">\n",
       "      <th></th>\n",
       "      <th>Transaction_date</th>\n",
       "      <th>Product</th>\n",
       "      <th>Price</th>\n",
       "      <th>Payment_Type</th>\n",
       "      <th>Name</th>\n",
       "      <th>City</th>\n",
       "      <th>State</th>\n",
       "      <th>Country</th>\n",
       "      <th>Account_Created</th>\n",
       "      <th>Last_Login</th>\n",
       "      <th>Latitude</th>\n",
       "      <th>Longitude</th>\n",
       "      <th>Standardized_Price</th>\n",
       "    </tr>\n",
       "  </thead>\n",
       "  <tbody>\n",
       "    <tr>\n",
       "      <td>count</td>\n",
       "      <td>978</td>\n",
       "      <td>978</td>\n",
       "      <td>981.000000</td>\n",
       "      <td>979</td>\n",
       "      <td>981</td>\n",
       "      <td>977</td>\n",
       "      <td>968</td>\n",
       "      <td>981</td>\n",
       "      <td>978</td>\n",
       "      <td>974</td>\n",
       "      <td>979.000000</td>\n",
       "      <td>980.000000</td>\n",
       "      <td>981.000000</td>\n",
       "    </tr>\n",
       "    <tr>\n",
       "      <td>unique</td>\n",
       "      <td>960</td>\n",
       "      <td>2</td>\n",
       "      <td>NaN</td>\n",
       "      <td>4</td>\n",
       "      <td>727</td>\n",
       "      <td>736</td>\n",
       "      <td>202</td>\n",
       "      <td>56</td>\n",
       "      <td>957</td>\n",
       "      <td>954</td>\n",
       "      <td>NaN</td>\n",
       "      <td>NaN</td>\n",
       "      <td>NaN</td>\n",
       "    </tr>\n",
       "    <tr>\n",
       "      <td>top</td>\n",
       "      <td>1/5/2009 5:33</td>\n",
       "      <td>Product1</td>\n",
       "      <td>NaN</td>\n",
       "      <td>Visa</td>\n",
       "      <td>Sarah</td>\n",
       "      <td>London</td>\n",
       "      <td>England</td>\n",
       "      <td>United States</td>\n",
       "      <td>1/18/2009 0:00</td>\n",
       "      <td>1/4/2009 20:01</td>\n",
       "      <td>NaN</td>\n",
       "      <td>NaN</td>\n",
       "      <td>NaN</td>\n",
       "    </tr>\n",
       "    <tr>\n",
       "      <td>freq</td>\n",
       "      <td>2</td>\n",
       "      <td>842</td>\n",
       "      <td>NaN</td>\n",
       "      <td>511</td>\n",
       "      <td>11</td>\n",
       "      <td>19</td>\n",
       "      <td>84</td>\n",
       "      <td>455</td>\n",
       "      <td>3</td>\n",
       "      <td>2</td>\n",
       "      <td>NaN</td>\n",
       "      <td>NaN</td>\n",
       "      <td>NaN</td>\n",
       "    </tr>\n",
       "    <tr>\n",
       "      <td>mean</td>\n",
       "      <td>NaN</td>\n",
       "      <td>NaN</td>\n",
       "      <td>1534.169215</td>\n",
       "      <td>NaN</td>\n",
       "      <td>NaN</td>\n",
       "      <td>NaN</td>\n",
       "      <td>NaN</td>\n",
       "      <td>NaN</td>\n",
       "      <td>NaN</td>\n",
       "      <td>NaN</td>\n",
       "      <td>39.116890</td>\n",
       "      <td>-41.097999</td>\n",
       "      <td>-0.096533</td>\n",
       "    </tr>\n",
       "    <tr>\n",
       "      <td>std</td>\n",
       "      <td>NaN</td>\n",
       "      <td>NaN</td>\n",
       "      <td>834.950840</td>\n",
       "      <td>NaN</td>\n",
       "      <td>NaN</td>\n",
       "      <td>NaN</td>\n",
       "      <td>NaN</td>\n",
       "      <td>NaN</td>\n",
       "      <td>NaN</td>\n",
       "      <td>NaN</td>\n",
       "      <td>19.433659</td>\n",
       "      <td>67.592075</td>\n",
       "      <td>0.690059</td>\n",
       "    </tr>\n",
       "    <tr>\n",
       "      <td>min</td>\n",
       "      <td>NaN</td>\n",
       "      <td>NaN</td>\n",
       "      <td>20.000000</td>\n",
       "      <td>NaN</td>\n",
       "      <td>NaN</td>\n",
       "      <td>NaN</td>\n",
       "      <td>NaN</td>\n",
       "      <td>NaN</td>\n",
       "      <td>NaN</td>\n",
       "      <td>NaN</td>\n",
       "      <td>-41.465000</td>\n",
       "      <td>-159.485280</td>\n",
       "      <td>-1.347942</td>\n",
       "    </tr>\n",
       "    <tr>\n",
       "      <td>25%</td>\n",
       "      <td>NaN</td>\n",
       "      <td>NaN</td>\n",
       "      <td>1200.000000</td>\n",
       "      <td>NaN</td>\n",
       "      <td>NaN</td>\n",
       "      <td>NaN</td>\n",
       "      <td>NaN</td>\n",
       "      <td>NaN</td>\n",
       "      <td>NaN</td>\n",
       "      <td>NaN</td>\n",
       "      <td>36.013475</td>\n",
       "      <td>-87.861807</td>\n",
       "      <td>-0.372712</td>\n",
       "    </tr>\n",
       "    <tr>\n",
       "      <td>50%</td>\n",
       "      <td>NaN</td>\n",
       "      <td>NaN</td>\n",
       "      <td>1200.000000</td>\n",
       "      <td>NaN</td>\n",
       "      <td>NaN</td>\n",
       "      <td>NaN</td>\n",
       "      <td>NaN</td>\n",
       "      <td>NaN</td>\n",
       "      <td>NaN</td>\n",
       "      <td>NaN</td>\n",
       "      <td>42.395830</td>\n",
       "      <td>-73.722083</td>\n",
       "      <td>-0.372712</td>\n",
       "    </tr>\n",
       "    <tr>\n",
       "      <td>75%</td>\n",
       "      <td>NaN</td>\n",
       "      <td>NaN</td>\n",
       "      <td>1200.000000</td>\n",
       "      <td>NaN</td>\n",
       "      <td>NaN</td>\n",
       "      <td>NaN</td>\n",
       "      <td>NaN</td>\n",
       "      <td>NaN</td>\n",
       "      <td>NaN</td>\n",
       "      <td>NaN</td>\n",
       "      <td>51.083333</td>\n",
       "      <td>4.916667</td>\n",
       "      <td>-0.372712</td>\n",
       "    </tr>\n",
       "    <tr>\n",
       "      <td>max</td>\n",
       "      <td>NaN</td>\n",
       "      <td>NaN</td>\n",
       "      <td>3600.000000</td>\n",
       "      <td>NaN</td>\n",
       "      <td>NaN</td>\n",
       "      <td>NaN</td>\n",
       "      <td>NaN</td>\n",
       "      <td>NaN</td>\n",
       "      <td>NaN</td>\n",
       "      <td>NaN</td>\n",
       "      <td>64.837780</td>\n",
       "      <td>174.766667</td>\n",
       "      <td>1.610806</td>\n",
       "    </tr>\n",
       "  </tbody>\n",
       "</table>\n",
       "</div>"
      ],
      "text/plain": [
       "       Transaction_date   Product        Price Payment_Type   Name    City  \\\n",
       "count               978       978   981.000000          979    981     977   \n",
       "unique              960         2          NaN            4    727     736   \n",
       "top       1/5/2009 5:33  Product1          NaN         Visa  Sarah  London   \n",
       "freq                  2       842          NaN          511     11      19   \n",
       "mean                NaN       NaN  1534.169215          NaN    NaN     NaN   \n",
       "std                 NaN       NaN   834.950840          NaN    NaN     NaN   \n",
       "min                 NaN       NaN    20.000000          NaN    NaN     NaN   \n",
       "25%                 NaN       NaN  1200.000000          NaN    NaN     NaN   \n",
       "50%                 NaN       NaN  1200.000000          NaN    NaN     NaN   \n",
       "75%                 NaN       NaN  1200.000000          NaN    NaN     NaN   \n",
       "max                 NaN       NaN  3600.000000          NaN    NaN     NaN   \n",
       "\n",
       "          State        Country Account_Created      Last_Login    Latitude  \\\n",
       "count       968            981             978             974  979.000000   \n",
       "unique      202             56             957             954         NaN   \n",
       "top     England  United States  1/18/2009 0:00  1/4/2009 20:01         NaN   \n",
       "freq         84            455               3               2         NaN   \n",
       "mean        NaN            NaN             NaN             NaN   39.116890   \n",
       "std         NaN            NaN             NaN             NaN   19.433659   \n",
       "min         NaN            NaN             NaN             NaN  -41.465000   \n",
       "25%         NaN            NaN             NaN             NaN   36.013475   \n",
       "50%         NaN            NaN             NaN             NaN   42.395830   \n",
       "75%         NaN            NaN             NaN             NaN   51.083333   \n",
       "max         NaN            NaN             NaN             NaN   64.837780   \n",
       "\n",
       "         Longitude  Standardized_Price  \n",
       "count   980.000000          981.000000  \n",
       "unique         NaN                 NaN  \n",
       "top            NaN                 NaN  \n",
       "freq           NaN                 NaN  \n",
       "mean    -41.097999           -0.096533  \n",
       "std      67.592075            0.690059  \n",
       "min    -159.485280           -1.347942  \n",
       "25%     -87.861807           -0.372712  \n",
       "50%     -73.722083           -0.372712  \n",
       "75%       4.916667           -0.372712  \n",
       "max     174.766667            1.610806  "
      ]
     },
     "execution_count": 29,
     "metadata": {},
     "output_type": "execute_result"
    }
   ],
   "source": [
    "data_cleaned4.describe(include=\"all\")"
   ]
  },
  {
   "cell_type": "code",
   "execution_count": 30,
   "metadata": {},
   "outputs": [],
   "source": [
    "#export data to Edepcion_sales.csv file\n",
    "data_cleaned4.to_csv(\"C:/Users/mneme/Desktop/Edepcion_sales.csv\", index = False)"
   ]
  },
  {
   "cell_type": "markdown",
   "metadata": {},
   "source": [
    "Part 2: Using the data in Handling Missing Values.csv\n",
    "1 Handle all missing values. Provide an explanation for choosing a specific method (delete, impute or keep; if impute, why mean, median or mode?) in handling specific missing values"
   ]
  },
  {
   "cell_type": "code",
   "execution_count": 31,
   "metadata": {},
   "outputs": [
    {
     "data": {
      "text/plain": [
       "ID          0\n",
       "Sex         4\n",
       "Age         0\n",
       "Income      3\n",
       "Employed    0\n",
       "Children    2\n",
       "Buy_Car     0\n",
       "dtype: int64"
      ]
     },
     "execution_count": 31,
     "metadata": {},
     "output_type": "execute_result"
    }
   ],
   "source": [
    "#read sales.csv\n",
    "data_missing = pd.read_csv(\"C:/Users/mneme/Desktop/Handling_Missing_Values.csv\")\n",
    "\n",
    "#Checking null values\n",
    "data_missing.isnull().sum()"
   ]
  },
  {
   "cell_type": "markdown",
   "metadata": {},
   "source": [
    "Columns that has missing values are Sex = 4, Income = 3 and Children = 2"
   ]
  },
  {
   "cell_type": "markdown",
   "metadata": {},
   "source": [
    "I will use imputation on all missing values"
   ]
  },
  {
   "cell_type": "markdown",
   "metadata": {},
   "source": [
    "For Sex, since it is a categorical variable then I will replace the missing values with \"No data\" to preserve the original data"
   ]
  },
  {
   "cell_type": "markdown",
   "metadata": {},
   "source": [
    "For Income, since it is numerical variable and in normal distribution, then I will use mean to replace the missing values"
   ]
  },
  {
   "cell_type": "markdown",
   "metadata": {},
   "source": [
    "For Children, since it is numerical and it is skewed then I will use median to replace the missing values"
   ]
  },
  {
   "cell_type": "code",
   "execution_count": 33,
   "metadata": {},
   "outputs": [
    {
     "name": "stdout",
     "output_type": "stream",
     "text": [
      "    ID      Sex  Age        Income Employed  Children Buy_Car\n",
      "0    1     Male   25  25146.000000   Single       0.0      No\n",
      "1    2     Male   30  26939.000000  Married       2.0     Yes\n",
      "2    3     Male   27  26693.000000  Married       0.0      No\n",
      "3    4     Male   28  26666.000000  Married       3.0     Yes\n",
      "4    5     Male   29  25899.000000  Married       0.0      No\n",
      "5    6     Male   28  26462.000000  Married       1.0      No\n",
      "6    7   Female   28  26245.705882  Married       3.0     Yes\n",
      "7    8  No data   30  26037.000000  Married       2.0     Yes\n",
      "8    9   Female   28  26167.000000  Married       1.0     Yes\n",
      "9   10  No data   28  26245.705882   Single       1.0      No\n",
      "10  11   Female   28  26905.000000   Single       0.0      No\n",
      "11  12     Male   30  26195.000000   Single       1.0     Yes\n",
      "12  13   Female   30  26514.000000  Married       4.0     Yes\n",
      "13  14   Female   28  26969.000000  Married       4.0     Yes\n",
      "14  15  No data   28  26234.000000  Married       0.0      No\n",
      "15  16     Male   27  26229.000000  Married       0.0      No\n",
      "16  17   Female   26  25094.000000  Married       0.0      No\n",
      "17  18  No data   28  26245.705882   Single       0.0     Yes\n",
      "18  19     Male   28  26601.000000  Married       1.0      No\n",
      "19  20     Male   29  25427.000000  Married       1.0      No\n"
     ]
    }
   ],
   "source": [
    "#Getting the mode, mean and median\n",
    "mean_value = data_missing['Income'].mean()\n",
    "median_value = data_missing['Children'].median()\n",
    "\n",
    "#Filling in the missing values with mode, mean and median\n",
    "data_missing['Sex'] = data_missing['Sex'].fillna(\"No data\")\n",
    "data_missing['Income'] = data_missing['Income'].fillna(mean_value)\n",
    "data_missing['Children'] = data_missing['Children'].fillna(median_value)\n",
    "print(data_missing)"
   ]
  },
  {
   "cell_type": "code",
   "execution_count": 34,
   "metadata": {},
   "outputs": [],
   "source": [
    "#export data to Edepcion_Handling_Missing_Values.csv file\n",
    "data_missing.to_csv(\"C:/Users/mneme/Desktop/Edepcion_Handling_Missing_Values.csv\", index = False)"
   ]
  },
  {
   "cell_type": "markdown",
   "metadata": {},
   "source": [
    "Part 3: \n",
    "1 Gather Data From Any Source (it would be better if you use your own data)\n",
    "2 Preprocess the data you gathered"
   ]
  },
  {
   "cell_type": "code",
   "execution_count": 4,
   "metadata": {},
   "outputs": [
    {
     "data": {
      "text/html": [
       "<div>\n",
       "<style scoped>\n",
       "    .dataframe tbody tr th:only-of-type {\n",
       "        vertical-align: middle;\n",
       "    }\n",
       "\n",
       "    .dataframe tbody tr th {\n",
       "        vertical-align: top;\n",
       "    }\n",
       "\n",
       "    .dataframe thead th {\n",
       "        text-align: right;\n",
       "    }\n",
       "</style>\n",
       "<table border=\"1\" class=\"dataframe\">\n",
       "  <thead>\n",
       "    <tr style=\"text-align: right;\">\n",
       "      <th></th>\n",
       "      <th>App</th>\n",
       "      <th>Category</th>\n",
       "      <th>Rating</th>\n",
       "      <th>Reviews</th>\n",
       "      <th>Size</th>\n",
       "      <th>Installs</th>\n",
       "      <th>Type</th>\n",
       "      <th>Price</th>\n",
       "      <th>Content Rating</th>\n",
       "      <th>Genres</th>\n",
       "      <th>Last Updated</th>\n",
       "      <th>Current Ver</th>\n",
       "      <th>Android Ver</th>\n",
       "    </tr>\n",
       "  </thead>\n",
       "  <tbody>\n",
       "    <tr>\n",
       "      <td>0</td>\n",
       "      <td>Photo Editor &amp; Candy Camera &amp; Grid &amp; ScrapBook</td>\n",
       "      <td>ART_AND_DESIGN</td>\n",
       "      <td>4.1</td>\n",
       "      <td>159</td>\n",
       "      <td>19M</td>\n",
       "      <td>10,000+</td>\n",
       "      <td>Free</td>\n",
       "      <td>0</td>\n",
       "      <td>Everyone</td>\n",
       "      <td>Art &amp; Design</td>\n",
       "      <td>January 7, 2018</td>\n",
       "      <td>1.0.0</td>\n",
       "      <td>4.0.3 and up</td>\n",
       "    </tr>\n",
       "    <tr>\n",
       "      <td>1</td>\n",
       "      <td>Coloring book moana</td>\n",
       "      <td>ART_AND_DESIGN</td>\n",
       "      <td>3.9</td>\n",
       "      <td>967</td>\n",
       "      <td>14M</td>\n",
       "      <td>500,000+</td>\n",
       "      <td>Free</td>\n",
       "      <td>0</td>\n",
       "      <td>Everyone</td>\n",
       "      <td>Art &amp; Design;Pretend Play</td>\n",
       "      <td>January 15, 2018</td>\n",
       "      <td>2.0.0</td>\n",
       "      <td>4.0.3 and up</td>\n",
       "    </tr>\n",
       "    <tr>\n",
       "      <td>2</td>\n",
       "      <td>U Launcher Lite – FREE Live Cool Themes, Hide ...</td>\n",
       "      <td>ART_AND_DESIGN</td>\n",
       "      <td>4.7</td>\n",
       "      <td>87510</td>\n",
       "      <td>8.7M</td>\n",
       "      <td>5,000,000+</td>\n",
       "      <td>Free</td>\n",
       "      <td>0</td>\n",
       "      <td>Everyone</td>\n",
       "      <td>Art &amp; Design</td>\n",
       "      <td>August 1, 2018</td>\n",
       "      <td>1.2.4</td>\n",
       "      <td>4.0.3 and up</td>\n",
       "    </tr>\n",
       "    <tr>\n",
       "      <td>3</td>\n",
       "      <td>Sketch - Draw &amp; Paint</td>\n",
       "      <td>ART_AND_DESIGN</td>\n",
       "      <td>4.5</td>\n",
       "      <td>215644</td>\n",
       "      <td>25M</td>\n",
       "      <td>50,000,000+</td>\n",
       "      <td>Free</td>\n",
       "      <td>0</td>\n",
       "      <td>Teen</td>\n",
       "      <td>Art &amp; Design</td>\n",
       "      <td>June 8, 2018</td>\n",
       "      <td>Varies with device</td>\n",
       "      <td>4.2 and up</td>\n",
       "    </tr>\n",
       "    <tr>\n",
       "      <td>4</td>\n",
       "      <td>Pixel Draw - Number Art Coloring Book</td>\n",
       "      <td>ART_AND_DESIGN</td>\n",
       "      <td>4.3</td>\n",
       "      <td>967</td>\n",
       "      <td>2.8M</td>\n",
       "      <td>100,000+</td>\n",
       "      <td>Free</td>\n",
       "      <td>0</td>\n",
       "      <td>Everyone</td>\n",
       "      <td>Art &amp; Design;Creativity</td>\n",
       "      <td>June 20, 2018</td>\n",
       "      <td>1.1</td>\n",
       "      <td>4.4 and up</td>\n",
       "    </tr>\n",
       "  </tbody>\n",
       "</table>\n",
       "</div>"
      ],
      "text/plain": [
       "                                                 App        Category  Rating  \\\n",
       "0     Photo Editor & Candy Camera & Grid & ScrapBook  ART_AND_DESIGN     4.1   \n",
       "1                                Coloring book moana  ART_AND_DESIGN     3.9   \n",
       "2  U Launcher Lite – FREE Live Cool Themes, Hide ...  ART_AND_DESIGN     4.7   \n",
       "3                              Sketch - Draw & Paint  ART_AND_DESIGN     4.5   \n",
       "4              Pixel Draw - Number Art Coloring Book  ART_AND_DESIGN     4.3   \n",
       "\n",
       "  Reviews  Size     Installs  Type Price Content Rating  \\\n",
       "0     159   19M      10,000+  Free     0       Everyone   \n",
       "1     967   14M     500,000+  Free     0       Everyone   \n",
       "2   87510  8.7M   5,000,000+  Free     0       Everyone   \n",
       "3  215644   25M  50,000,000+  Free     0           Teen   \n",
       "4     967  2.8M     100,000+  Free     0       Everyone   \n",
       "\n",
       "                      Genres      Last Updated         Current Ver  \\\n",
       "0               Art & Design   January 7, 2018               1.0.0   \n",
       "1  Art & Design;Pretend Play  January 15, 2018               2.0.0   \n",
       "2               Art & Design    August 1, 2018               1.2.4   \n",
       "3               Art & Design      June 8, 2018  Varies with device   \n",
       "4    Art & Design;Creativity     June 20, 2018                 1.1   \n",
       "\n",
       "    Android Ver  \n",
       "0  4.0.3 and up  \n",
       "1  4.0.3 and up  \n",
       "2  4.0.3 and up  \n",
       "3    4.2 and up  \n",
       "4    4.4 and up  "
      ]
     },
     "execution_count": 4,
     "metadata": {},
     "output_type": "execute_result"
    }
   ],
   "source": [
    "#read googleplaystore.csv, we will be using googleplaystore data for part 3\n",
    "data_app = pd.read_csv(\"C:/Users/mneme/Desktop/googleplaystore.csv\")\n",
    "\n",
    "#initial view of the entire dataframe\n",
    "data_app.head()"
   ]
  },
  {
   "cell_type": "code",
   "execution_count": 6,
   "metadata": {},
   "outputs": [
    {
     "data": {
      "text/plain": [
       "App                  0\n",
       "Category             0\n",
       "Rating            1474\n",
       "Reviews              0\n",
       "Size                 0\n",
       "Installs             0\n",
       "Type                 1\n",
       "Price                0\n",
       "Content Rating       1\n",
       "Genres               0\n",
       "Last Updated         0\n",
       "Current Ver          8\n",
       "Android Ver          3\n",
       "dtype: int64"
      ]
     },
     "execution_count": 6,
     "metadata": {},
     "output_type": "execute_result"
    }
   ],
   "source": [
    "data_app.isnull().sum()"
   ]
  },
  {
   "cell_type": "markdown",
   "metadata": {},
   "source": [
    "We see that Rating has a lot of null values. So, we use imputation or fillna methods"
   ]
  },
  {
   "cell_type": "code",
   "execution_count": 7,
   "metadata": {},
   "outputs": [
    {
     "data": {
      "text/plain": [
       "App               0\n",
       "Category          0\n",
       "Rating            0\n",
       "Reviews           0\n",
       "Size              0\n",
       "Installs          0\n",
       "Type              1\n",
       "Price             0\n",
       "Content Rating    1\n",
       "Genres            0\n",
       "Last Updated      0\n",
       "Current Ver       8\n",
       "Android Ver       3\n",
       "dtype: int64"
      ]
     },
     "execution_count": 7,
     "metadata": {},
     "output_type": "execute_result"
    }
   ],
   "source": [
    "data_app['Rating'] = data_app['Rating'].fillna(method = 'bfill' , axis=0).fillna(method = 'ffill' , axis=0)\n",
    "data_app.isnull().sum()"
   ]
  },
  {
   "cell_type": "code",
   "execution_count": 8,
   "metadata": {},
   "outputs": [
    {
     "data": {
      "text/plain": [
       "(1695, 13)"
      ]
     },
     "execution_count": 8,
     "metadata": {},
     "output_type": "execute_result"
    }
   ],
   "source": [
    "data_app[data_app.Size == 'Varies with device'].shape"
   ]
  },
  {
   "cell_type": "markdown",
   "metadata": {},
   "source": [
    "We find that the Size column has values of 1695 = 'Varies with device'. We will replace it by imputation or fillna. Also, removing special characters. And we make all values in the Size column to be numeric. "
   ]
  },
  {
   "cell_type": "code",
   "execution_count": 12,
   "metadata": {},
   "outputs": [
    {
     "data": {
      "text/plain": [
       "App               0\n",
       "Category          0\n",
       "Rating            0\n",
       "Reviews           0\n",
       "Size              0\n",
       "Installs          0\n",
       "Type              1\n",
       "Price             0\n",
       "Content Rating    1\n",
       "Genres            0\n",
       "Last Updated      0\n",
       "Current Ver       8\n",
       "Android Ver       3\n",
       "dtype: int64"
      ]
     },
     "execution_count": 12,
     "metadata": {},
     "output_type": "execute_result"
    }
   ],
   "source": [
    "#import numpy library\n",
    "import numpy as np\n",
    "\n",
    "data_app['Size'] = data_app['Size'].str.replace('+','')\n",
    "data_app['Size'] = data_app['Size'].str.replace(',','')\n",
    "data_app['Size'] = data_app['Size'].replace('Varies with device' , np.nan)\n",
    "data_app['Size'] = data_app['Size'].str.replace('M' , '000000')\n",
    "data_app['Size'] = data_app['Size'].str.replace('k' , '000')\n",
    "data_app['Size'] = data_app['Size'].apply(lambda x: float(x)/1000)\n",
    "data_app['Size'].dtype\n",
    "data_app['Size'] = data_app['Size'].fillna(method = 'bfill' , axis=0).fillna(method = 'ffill' , axis=0)\n",
    "data_app.isnull().sum()"
   ]
  },
  {
   "cell_type": "code",
   "execution_count": 14,
   "metadata": {},
   "outputs": [
    {
     "data": {
      "text/plain": [
       "array(['10000', '500000', '5000000', '50000000', '100000', '50000',\n",
       "       '1000000', '10000000', '5000', '100000000', '1000000000', '1000',\n",
       "       '500000000', '50', '100', '500', '10', '1', '5', '0', 'Free'],\n",
       "      dtype=object)"
      ]
     },
     "execution_count": 14,
     "metadata": {},
     "output_type": "execute_result"
    }
   ],
   "source": [
    "data_app['Installs'].unique()"
   ]
  },
  {
   "cell_type": "markdown",
   "metadata": {},
   "source": [
    "Removing unwanted characters in Installs. Deleting non-numeric values. Converting data type to int"
   ]
  },
  {
   "cell_type": "code",
   "execution_count": 22,
   "metadata": {},
   "outputs": [
    {
     "data": {
      "text/plain": [
       "dtype('int32')"
      ]
     },
     "execution_count": 22,
     "metadata": {},
     "output_type": "execute_result"
    }
   ],
   "source": [
    "\n",
    "data_app['Installs'] = data_app['Installs'].str.replace('+','')\n",
    "data_app['Installs'] = data_app['Installs'].str.replace(',','')\n",
    "data_app.drop(data_app[(data_app['Installs'] == 'Free')].index, inplace=True)\n",
    "data_app[~data_app.Installs.str.isnumeric()]\n",
    "data_app['Installs'] = data_app['Installs'].astype(int)\n",
    "data_app['Installs'].dtype"
   ]
  },
  {
   "cell_type": "code",
   "execution_count": 24,
   "metadata": {},
   "outputs": [
    {
     "data": {
      "text/plain": [
       "array(['0', '$4.99', '$3.99', '$6.99', '$1.49', '$2.99', '$7.99', '$5.99',\n",
       "       '$3.49', '$1.99', '$9.99', '$7.49', '$0.99', '$9.00', '$5.49',\n",
       "       '$10.00', '$24.99', '$11.99', '$79.99', '$16.99', '$14.99',\n",
       "       '$1.00', '$29.99', '$12.99', '$2.49', '$10.99', '$1.50', '$19.99',\n",
       "       '$15.99', '$33.99', '$74.99', '$39.99', '$3.95', '$4.49', '$1.70',\n",
       "       '$8.99', '$2.00', '$3.88', '$25.99', '$399.99', '$17.99',\n",
       "       '$400.00', '$3.02', '$1.76', '$4.84', '$4.77', '$1.61', '$2.50',\n",
       "       '$1.59', '$6.49', '$1.29', '$5.00', '$13.99', '$299.99', '$379.99',\n",
       "       '$37.99', '$18.99', '$389.99', '$19.90', '$8.49', '$1.75',\n",
       "       '$14.00', '$4.85', '$46.99', '$109.99', '$154.99', '$3.08',\n",
       "       '$2.59', '$4.80', '$1.96', '$19.40', '$3.90', '$4.59', '$15.46',\n",
       "       '$3.04', '$4.29', '$2.60', '$3.28', '$4.60', '$28.99', '$2.95',\n",
       "       '$2.90', '$1.97', '$200.00', '$89.99', '$2.56', '$30.99', '$3.61',\n",
       "       '$394.99', '$1.26', '$1.20', '$1.04'], dtype=object)"
      ]
     },
     "execution_count": 24,
     "metadata": {},
     "output_type": "execute_result"
    }
   ],
   "source": [
    "#Checking Price column\n",
    "data_app['Price'].unique()"
   ]
  },
  {
   "cell_type": "markdown",
   "metadata": {},
   "source": [
    "Removing unwanted characters in Price column. Converting data type to float."
   ]
  },
  {
   "cell_type": "code",
   "execution_count": 25,
   "metadata": {},
   "outputs": [
    {
     "data": {
      "text/plain": [
       "dtype('float64')"
      ]
     },
     "execution_count": 25,
     "metadata": {},
     "output_type": "execute_result"
    }
   ],
   "source": [
    "data_app['Price'] = data_app['Price'].str.replace('$','')\n",
    "data_app['Price'] = data_app['Price'].astype(float)\n",
    "data_app['Price'].dtype"
   ]
  },
  {
   "cell_type": "markdown",
   "metadata": {},
   "source": [
    "Handling the remaining missing values with imputation or fillna"
   ]
  },
  {
   "cell_type": "code",
   "execution_count": 26,
   "metadata": {},
   "outputs": [
    {
     "data": {
      "text/plain": [
       "App               0\n",
       "Category          0\n",
       "Rating            0\n",
       "Reviews           0\n",
       "Size              0\n",
       "Installs          0\n",
       "Type              1\n",
       "Price             0\n",
       "Content Rating    0\n",
       "Genres            0\n",
       "Last Updated      0\n",
       "Current Ver       8\n",
       "Android Ver       2\n",
       "dtype: int64"
      ]
     },
     "execution_count": 26,
     "metadata": {},
     "output_type": "execute_result"
    }
   ],
   "source": [
    "data_app.isnull().sum()"
   ]
  },
  {
   "cell_type": "code",
   "execution_count": 27,
   "metadata": {},
   "outputs": [
    {
     "data": {
      "text/plain": [
       "App               0\n",
       "Category          0\n",
       "Rating            0\n",
       "Reviews           0\n",
       "Size              0\n",
       "Installs          0\n",
       "Type              0\n",
       "Price             0\n",
       "Content Rating    0\n",
       "Genres            0\n",
       "Last Updated      0\n",
       "Current Ver       0\n",
       "Android Ver       0\n",
       "dtype: int64"
      ]
     },
     "execution_count": 27,
     "metadata": {},
     "output_type": "execute_result"
    }
   ],
   "source": [
    "data_app['Type'] = data_app['Type'].fillna(method = 'bfill' , axis=0).fillna(method = 'ffill' , axis=0)\n",
    "data_app['Current Ver'] = data_app['Current Ver'].fillna(method = 'bfill' , axis=0).fillna(method = 'ffill' , axis=0)\n",
    "data_app['Android Ver'] = data_app['Android Ver'].fillna(method = 'bfill' , axis=0).fillna(method = 'ffill' , axis=0)\n",
    "data_app.isnull().sum()"
   ]
  },
  {
   "cell_type": "markdown",
   "metadata": {},
   "source": [
    "Converting Reviews column to numeric or int data type."
   ]
  },
  {
   "cell_type": "code",
   "execution_count": 32,
   "metadata": {},
   "outputs": [
    {
     "data": {
      "text/plain": [
       "array(['159', '967', '87510', ..., '603', '1195', '398307'], dtype=object)"
      ]
     },
     "execution_count": 32,
     "metadata": {},
     "output_type": "execute_result"
    }
   ],
   "source": [
    "data_app['Reviews'].unique()"
   ]
  },
  {
   "cell_type": "code",
   "execution_count": 33,
   "metadata": {},
   "outputs": [
    {
     "data": {
      "text/plain": [
       "dtype('int32')"
      ]
     },
     "execution_count": 33,
     "metadata": {},
     "output_type": "execute_result"
    }
   ],
   "source": [
    "data_app['Reviews'] = data_app['Reviews'].astype(int)\n",
    "data_app['Reviews'].dtype"
   ]
  },
  {
   "cell_type": "markdown",
   "metadata": {},
   "source": [
    "Removing duplicated rows"
   ]
  },
  {
   "cell_type": "code",
   "execution_count": 36,
   "metadata": {
    "scrolled": false
   },
   "outputs": [
    {
     "data": {
      "text/html": [
       "<div>\n",
       "<style scoped>\n",
       "    .dataframe tbody tr th:only-of-type {\n",
       "        vertical-align: middle;\n",
       "    }\n",
       "\n",
       "    .dataframe tbody tr th {\n",
       "        vertical-align: top;\n",
       "    }\n",
       "\n",
       "    .dataframe thead th {\n",
       "        text-align: right;\n",
       "    }\n",
       "</style>\n",
       "<table border=\"1\" class=\"dataframe\">\n",
       "  <thead>\n",
       "    <tr style=\"text-align: right;\">\n",
       "      <th></th>\n",
       "      <th>App</th>\n",
       "      <th>Category</th>\n",
       "      <th>Rating</th>\n",
       "      <th>Reviews</th>\n",
       "      <th>Size</th>\n",
       "      <th>Installs</th>\n",
       "      <th>Type</th>\n",
       "      <th>Price</th>\n",
       "      <th>Content Rating</th>\n",
       "      <th>Genres</th>\n",
       "      <th>Last Updated</th>\n",
       "      <th>Current Ver</th>\n",
       "      <th>Android Ver</th>\n",
       "    </tr>\n",
       "  </thead>\n",
       "  <tbody>\n",
       "    <tr>\n",
       "      <td>1407</td>\n",
       "      <td>10 Best Foods for You</td>\n",
       "      <td>HEALTH_AND_FITNESS</td>\n",
       "      <td>4.0</td>\n",
       "      <td>2490</td>\n",
       "      <td>3800.0</td>\n",
       "      <td>500000</td>\n",
       "      <td>Free</td>\n",
       "      <td>0.00</td>\n",
       "      <td>Everyone 10+</td>\n",
       "      <td>Health &amp; Fitness</td>\n",
       "      <td>February 17, 2017</td>\n",
       "      <td>1.9</td>\n",
       "      <td>2.3.3 and up</td>\n",
       "    </tr>\n",
       "    <tr>\n",
       "      <td>2543</td>\n",
       "      <td>1800 Contacts - Lens Store</td>\n",
       "      <td>MEDICAL</td>\n",
       "      <td>4.7</td>\n",
       "      <td>23160</td>\n",
       "      <td>26000.0</td>\n",
       "      <td>1000000</td>\n",
       "      <td>Free</td>\n",
       "      <td>0.00</td>\n",
       "      <td>Everyone</td>\n",
       "      <td>Medical</td>\n",
       "      <td>July 27, 2018</td>\n",
       "      <td>7.4.1</td>\n",
       "      <td>5.0 and up</td>\n",
       "    </tr>\n",
       "    <tr>\n",
       "      <td>2385</td>\n",
       "      <td>2017 EMRA Antibiotic Guide</td>\n",
       "      <td>MEDICAL</td>\n",
       "      <td>4.4</td>\n",
       "      <td>12</td>\n",
       "      <td>3800.0</td>\n",
       "      <td>1000</td>\n",
       "      <td>Paid</td>\n",
       "      <td>16.99</td>\n",
       "      <td>Everyone</td>\n",
       "      <td>Medical</td>\n",
       "      <td>January 27, 2017</td>\n",
       "      <td>1.0.5</td>\n",
       "      <td>4.0.3 and up</td>\n",
       "    </tr>\n",
       "    <tr>\n",
       "      <td>1434</td>\n",
       "      <td>21-Day Meditation Experience</td>\n",
       "      <td>HEALTH_AND_FITNESS</td>\n",
       "      <td>4.4</td>\n",
       "      <td>11506</td>\n",
       "      <td>15000.0</td>\n",
       "      <td>100000</td>\n",
       "      <td>Free</td>\n",
       "      <td>0.00</td>\n",
       "      <td>Everyone</td>\n",
       "      <td>Health &amp; Fitness</td>\n",
       "      <td>August 2, 2018</td>\n",
       "      <td>3.0.0</td>\n",
       "      <td>4.1 and up</td>\n",
       "    </tr>\n",
       "    <tr>\n",
       "      <td>5415</td>\n",
       "      <td>365Scores - Live Scores</td>\n",
       "      <td>SPORTS</td>\n",
       "      <td>4.6</td>\n",
       "      <td>666246</td>\n",
       "      <td>25000.0</td>\n",
       "      <td>10000000</td>\n",
       "      <td>Free</td>\n",
       "      <td>0.00</td>\n",
       "      <td>Everyone</td>\n",
       "      <td>Sports</td>\n",
       "      <td>July 29, 2018</td>\n",
       "      <td>5.5.9</td>\n",
       "      <td>4.1 and up</td>\n",
       "    </tr>\n",
       "    <tr>\n",
       "      <td>...</td>\n",
       "      <td>...</td>\n",
       "      <td>...</td>\n",
       "      <td>...</td>\n",
       "      <td>...</td>\n",
       "      <td>...</td>\n",
       "      <td>...</td>\n",
       "      <td>...</td>\n",
       "      <td>...</td>\n",
       "      <td>...</td>\n",
       "      <td>...</td>\n",
       "      <td>...</td>\n",
       "      <td>...</td>\n",
       "      <td>...</td>\n",
       "    </tr>\n",
       "    <tr>\n",
       "      <td>3085</td>\n",
       "      <td>theScore: Live Sports Scores, News, Stats &amp; Vi...</td>\n",
       "      <td>SPORTS</td>\n",
       "      <td>4.4</td>\n",
       "      <td>133833</td>\n",
       "      <td>34000.0</td>\n",
       "      <td>10000000</td>\n",
       "      <td>Free</td>\n",
       "      <td>0.00</td>\n",
       "      <td>Everyone 10+</td>\n",
       "      <td>Sports</td>\n",
       "      <td>July 25, 2018</td>\n",
       "      <td>6.17.2</td>\n",
       "      <td>4.4 and up</td>\n",
       "    </tr>\n",
       "    <tr>\n",
       "      <td>3014</td>\n",
       "      <td>theScore: Live Sports Scores, News, Stats &amp; Vi...</td>\n",
       "      <td>SPORTS</td>\n",
       "      <td>4.4</td>\n",
       "      <td>133825</td>\n",
       "      <td>34000.0</td>\n",
       "      <td>10000000</td>\n",
       "      <td>Free</td>\n",
       "      <td>0.00</td>\n",
       "      <td>Everyone 10+</td>\n",
       "      <td>Sports</td>\n",
       "      <td>July 25, 2018</td>\n",
       "      <td>6.17.2</td>\n",
       "      <td>4.4 and up</td>\n",
       "    </tr>\n",
       "    <tr>\n",
       "      <td>3202</td>\n",
       "      <td>trivago: Hotels &amp; Travel</td>\n",
       "      <td>TRAVEL_AND_LOCAL</td>\n",
       "      <td>4.2</td>\n",
       "      <td>219848</td>\n",
       "      <td>14000.0</td>\n",
       "      <td>50000000</td>\n",
       "      <td>Free</td>\n",
       "      <td>0.00</td>\n",
       "      <td>Everyone</td>\n",
       "      <td>Travel &amp; Local</td>\n",
       "      <td>August 2, 2018</td>\n",
       "      <td>Varies with device</td>\n",
       "      <td>Varies with device</td>\n",
       "    </tr>\n",
       "    <tr>\n",
       "      <td>3118</td>\n",
       "      <td>trivago: Hotels &amp; Travel</td>\n",
       "      <td>TRAVEL_AND_LOCAL</td>\n",
       "      <td>4.2</td>\n",
       "      <td>219848</td>\n",
       "      <td>7600.0</td>\n",
       "      <td>50000000</td>\n",
       "      <td>Free</td>\n",
       "      <td>0.00</td>\n",
       "      <td>Everyone</td>\n",
       "      <td>Travel &amp; Local</td>\n",
       "      <td>August 2, 2018</td>\n",
       "      <td>Varies with device</td>\n",
       "      <td>Varies with device</td>\n",
       "    </tr>\n",
       "    <tr>\n",
       "      <td>8291</td>\n",
       "      <td>wetter.com - Weather and Radar</td>\n",
       "      <td>WEATHER</td>\n",
       "      <td>4.2</td>\n",
       "      <td>189310</td>\n",
       "      <td>38000.0</td>\n",
       "      <td>10000000</td>\n",
       "      <td>Free</td>\n",
       "      <td>0.00</td>\n",
       "      <td>Everyone</td>\n",
       "      <td>Weather</td>\n",
       "      <td>August 6, 2018</td>\n",
       "      <td>Varies with device</td>\n",
       "      <td>Varies with device</td>\n",
       "    </tr>\n",
       "  </tbody>\n",
       "</table>\n",
       "<p>1095 rows × 13 columns</p>\n",
       "</div>"
      ],
      "text/plain": [
       "                                                    App            Category  \\\n",
       "1407                              10 Best Foods for You  HEALTH_AND_FITNESS   \n",
       "2543                         1800 Contacts - Lens Store             MEDICAL   \n",
       "2385                         2017 EMRA Antibiotic Guide             MEDICAL   \n",
       "1434                       21-Day Meditation Experience  HEALTH_AND_FITNESS   \n",
       "5415                            365Scores - Live Scores              SPORTS   \n",
       "...                                                 ...                 ...   \n",
       "3085  theScore: Live Sports Scores, News, Stats & Vi...              SPORTS   \n",
       "3014  theScore: Live Sports Scores, News, Stats & Vi...              SPORTS   \n",
       "3202                           trivago: Hotels & Travel    TRAVEL_AND_LOCAL   \n",
       "3118                           trivago: Hotels & Travel    TRAVEL_AND_LOCAL   \n",
       "8291                     wetter.com - Weather and Radar             WEATHER   \n",
       "\n",
       "      Rating  Reviews     Size  Installs  Type  Price Content Rating  \\\n",
       "1407     4.0     2490   3800.0    500000  Free   0.00   Everyone 10+   \n",
       "2543     4.7    23160  26000.0   1000000  Free   0.00       Everyone   \n",
       "2385     4.4       12   3800.0      1000  Paid  16.99       Everyone   \n",
       "1434     4.4    11506  15000.0    100000  Free   0.00       Everyone   \n",
       "5415     4.6   666246  25000.0  10000000  Free   0.00       Everyone   \n",
       "...      ...      ...      ...       ...   ...    ...            ...   \n",
       "3085     4.4   133833  34000.0  10000000  Free   0.00   Everyone 10+   \n",
       "3014     4.4   133825  34000.0  10000000  Free   0.00   Everyone 10+   \n",
       "3202     4.2   219848  14000.0  50000000  Free   0.00       Everyone   \n",
       "3118     4.2   219848   7600.0  50000000  Free   0.00       Everyone   \n",
       "8291     4.2   189310  38000.0  10000000  Free   0.00       Everyone   \n",
       "\n",
       "                Genres       Last Updated         Current Ver  \\\n",
       "1407  Health & Fitness  February 17, 2017                 1.9   \n",
       "2543           Medical      July 27, 2018               7.4.1   \n",
       "2385           Medical   January 27, 2017               1.0.5   \n",
       "1434  Health & Fitness     August 2, 2018               3.0.0   \n",
       "5415            Sports      July 29, 2018               5.5.9   \n",
       "...                ...                ...                 ...   \n",
       "3085            Sports      July 25, 2018              6.17.2   \n",
       "3014            Sports      July 25, 2018              6.17.2   \n",
       "3202    Travel & Local     August 2, 2018  Varies with device   \n",
       "3118    Travel & Local     August 2, 2018  Varies with device   \n",
       "8291           Weather     August 6, 2018  Varies with device   \n",
       "\n",
       "             Android Ver  \n",
       "1407        2.3.3 and up  \n",
       "2543          5.0 and up  \n",
       "2385        4.0.3 and up  \n",
       "1434          4.1 and up  \n",
       "5415          4.1 and up  \n",
       "...                  ...  \n",
       "3085          4.4 and up  \n",
       "3014          4.4 and up  \n",
       "3202  Varies with device  \n",
       "3118  Varies with device  \n",
       "8291  Varies with device  \n",
       "\n",
       "[1095 rows x 13 columns]"
      ]
     },
     "execution_count": 36,
     "metadata": {},
     "output_type": "execute_result"
    }
   ],
   "source": [
    "duplicated = data_app.duplicated(subset=['App', 'Category', 'Type'], keep='first')\n",
    "data_app[duplicated].sort_values(by=['App'])"
   ]
  },
  {
   "cell_type": "code",
   "execution_count": 40,
   "metadata": {},
   "outputs": [],
   "source": [
    "data_app.drop_duplicates(subset=['App', 'Category', 'Type'] , keep='first' , inplace=True)"
   ]
  },
  {
   "cell_type": "code",
   "execution_count": 41,
   "metadata": {},
   "outputs": [],
   "source": [
    "#export data to Edepcion_googleplaystore.csv\n",
    "data_app.to_csv(\"C:/Users/mneme/Desktop/Edepcion_Application.csv\", index = False)"
   ]
  }
 ],
 "metadata": {
  "kernelspec": {
   "display_name": "Python 3",
   "language": "python",
   "name": "python3"
  },
  "language_info": {
   "codemirror_mode": {
    "name": "ipython",
    "version": 3
   },
   "file_extension": ".py",
   "mimetype": "text/x-python",
   "name": "python",
   "nbconvert_exporter": "python",
   "pygments_lexer": "ipython3",
   "version": "3.7.4"
  }
 },
 "nbformat": 4,
 "nbformat_minor": 2
}
